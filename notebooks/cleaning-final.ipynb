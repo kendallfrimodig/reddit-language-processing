{
 "cells": [
  {
   "cell_type": "markdown",
   "metadata": {
    "collapsed": true,
    "pycharm": {
     "name": "#%% md\n"
    }
   },
   "source": [
    "this notebook sets up the data cleaning after submissions are pulled. Lines that are commented out were first tried here, and decided to be better placed in the intial function within the requests notebook"
   ]
  },
  {
   "cell_type": "code",
   "execution_count": 1,
   "outputs": [],
   "source": [
    "import pandas as pd"
   ],
   "metadata": {
    "collapsed": false,
    "pycharm": {
     "name": "#%%\n"
    }
   }
  },
  {
   "cell_type": "markdown",
   "source": [
    "\n"
   ],
   "metadata": {
    "collapsed": false,
    "pycharm": {
     "name": "#%% md\n"
    }
   }
  },
  {
   "cell_type": "code",
   "execution_count": 2,
   "outputs": [
    {
     "name": "stderr",
     "output_type": "stream",
     "text": [
      "/home/dale/anaconda3/envs/python397/lib/python3.9/site-packages/IPython/core/interactiveshell.py:3444: DtypeWarning: Columns (3,4,6,7,8,9,11,12,13,14,15,16,20,22,23,24,25,26,27,29,30,31,33,34,36,37,41,43,47,51,52,57,63,66,67,69,74,75,76,77,78,79,80,82,83,85,86,87,89,90,91,93,94,95,96,97,98) have mixed types.Specify dtype option on import or set low_memory=False.\n",
      "  exec(code_obj, self.user_global_ns, self.user_ns)\n",
      "/home/dale/anaconda3/envs/python397/lib/python3.9/site-packages/IPython/core/interactiveshell.py:3444: DtypeWarning: Columns (11,22,84,85) have mixed types.Specify dtype option on import or set low_memory=False.\n",
      "  exec(code_obj, self.user_global_ns, self.user_ns)\n"
     ]
    }
   ],
   "source": [
    "dem = pd.read_csv('./data/democrat140k.csv')\n",
    "rep = pd.read_csv('./data/conservative140k.csv')"
   ],
   "metadata": {
    "collapsed": false,
    "pycharm": {
     "name": "#%%\n"
    }
   }
  },
  {
   "cell_type": "code",
   "execution_count": 3,
   "outputs": [],
   "source": [
    "df = pd.concat([dem,rep])"
   ],
   "metadata": {
    "collapsed": false,
    "pycharm": {
     "name": "#%%\n"
    }
   }
  },
  {
   "cell_type": "code",
   "execution_count": 4,
   "outputs": [
    {
     "data": {
      "text/plain": "automod_filtered    43152\nmoderator           27671\nreddit              11019\ndeleted              2994\nauthor                  5\nName: removed_by_category, dtype: int64"
     },
     "execution_count": 4,
     "metadata": {},
     "output_type": "execute_result"
    }
   ],
   "source": [
    "\n",
    "df['removed_by_category'].value_counts()"
   ],
   "metadata": {
    "collapsed": false,
    "pycharm": {
     "name": "#%%\n"
    }
   }
  },
  {
   "cell_type": "markdown",
   "source": [],
   "metadata": {
    "collapsed": false,
    "pycharm": {
     "name": "#%% md\n"
    }
   }
  },
  {
   "cell_type": "markdown",
   "source": [
    "Removing posts that were filtered by automod (very likely bot posts), moderator (not following subreddit rules or potential bot), reddit (likely more serious), and author + deleted as the content of the post may have been poor or the author might not be active and would not be as valuable to predictions <br>\n",
    "saving ID so that if comments are pulled later, comments for such posts can be filtered earlier on <br>\n",
    "\n",
    "will likely be integrated into loop later on, so this doesnt have to be done for each pull, and since over half the posts are filtered, many more pulls will likely be required."
   ],
   "metadata": {
    "collapsed": false,
    "pycharm": {
     "name": "#%% md\n"
    }
   }
  },
  {
   "cell_type": "code",
   "execution_count": 5,
   "outputs": [],
   "source": [
    "filter_cat = ['automod_filtered', 'moderator', 'reddit','author','deleted']\n",
    "\n",
    "\n",
    "filtered_authors =  df[df['removed_by_category'].isin(filter_cat)]['author'].unique()\n",
    "\n",
    "df =  df[~df['removed_by_category'].isin(filter_cat)]"
   ],
   "metadata": {
    "collapsed": false,
    "pycharm": {
     "name": "#%%\n"
    }
   }
  },
  {
   "cell_type": "code",
   "execution_count": 6,
   "outputs": [],
   "source": [
    "filtered_authors = list(filtered_authors)"
   ],
   "metadata": {
    "collapsed": false,
    "pycharm": {
     "name": "#%%\n"
    }
   }
  },
  {
   "cell_type": "markdown",
   "source": [
    "check to see if filtered authors still have active posts on reddit, so older submissions don't need to filtered by this list"
   ],
   "metadata": {
    "collapsed": false,
    "pycharm": {
     "name": "#%% md\n"
    }
   }
  },
  {
   "cell_type": "code",
   "execution_count": 7,
   "outputs": [
    {
     "data": {
      "text/plain": "78317"
     },
     "execution_count": 7,
     "metadata": {},
     "output_type": "execute_result"
    }
   ],
   "source": [
    "df['author'].isin(filtered_authors).sum()\n"
   ],
   "metadata": {
    "collapsed": false,
    "pycharm": {
     "name": "#%%\n"
    }
   }
  },
  {
   "cell_type": "markdown",
   "source": [
    "Most of the filtered posts are from authors who still have active posts in subreddit<br>\n",
    "Check to see if DF has no deleted posts"
   ],
   "metadata": {
    "collapsed": false,
    "pycharm": {
     "name": "#%% md\n"
    }
   }
  },
  {
   "cell_type": "code",
   "execution_count": 8,
   "outputs": [
    {
     "data": {
      "text/plain": "Series([], Name: removed_by_category, dtype: int64)"
     },
     "execution_count": 8,
     "metadata": {},
     "output_type": "execute_result"
    }
   ],
   "source": [
    "df['removed_by_category'].value_counts()"
   ],
   "metadata": {
    "collapsed": false,
    "pycharm": {
     "name": "#%%\n"
    }
   }
  },
  {
   "cell_type": "code",
   "execution_count": 9,
   "outputs": [],
   "source": [
    "df = df[['selftext','created_utc','title','id','author','subreddit']]"
   ],
   "metadata": {
    "collapsed": false,
    "pycharm": {
     "name": "#%%\n"
    }
   }
  },
  {
   "cell_type": "code",
   "source": [
    "df.isnull().sum()"
   ],
   "metadata": {
    "collapsed": false,
    "pycharm": {
     "name": "#%%\n"
    }
   },
   "execution_count": 10,
   "outputs": [
    {
     "data": {
      "text/plain": "selftext       120539\ncreated_utc         0\ntitle               0\nid                  0\nauthor              0\nsubreddit           0\ndtype: int64"
     },
     "execution_count": 10,
     "metadata": {},
     "output_type": "execute_result"
    }
   ]
  },
  {
   "cell_type": "code",
   "execution_count": 11,
   "outputs": [
    {
     "data": {
      "text/plain": "132908"
     },
     "execution_count": 11,
     "metadata": {},
     "output_type": "execute_result"
    }
   ],
   "source": [
    "len(df)"
   ],
   "metadata": {
    "collapsed": false,
    "pycharm": {
     "name": "#%%\n"
    }
   }
  },
  {
   "cell_type": "code",
   "execution_count": 12,
   "outputs": [],
   "source": [
    "title_self = df[df['selftext'].notnull()]"
   ],
   "metadata": {
    "collapsed": false,
    "pycharm": {
     "name": "#%%\n"
    }
   }
  },
  {
   "cell_type": "code",
   "execution_count": 13,
   "outputs": [
    {
     "data": {
      "text/plain": "                                                selftext  created_utc  \\\n971    Greetings, r/democrats. Recently we've receive...   1639631272   \n973    You’ve all heard them. But what’s gonna happen...   1639627277   \n976    Democrats should be pushing the Build Back Bet...   1639615153   \n987    He can forgive student loans.  While he may ne...   1639597351   \n1009                                           [deleted]   1639559096   \n...                                                  ...          ...   \n94657  Idk if this counts as a shit post, I hope it d...   1623900380   \n94785  Here is your “Good News of the Week.”  We are ...   1623880419   \n97633  Predictably have not gone down well in actual ...   1623349503   \n97783  Even third world Banana Republics laugh at thi...   1623331448   \n99897  Trump is set to address the North Carolina GOP...   1622933202   \n\n                                                   title      id  \\\n971       Announcement: Self/text posts are now disabled  rhj7bx   \n973    How do anti-vax people expect to live normally...  rhhyin   \n976                       Build Back Better, Kentucky!!!  rhe13t   \n987    I am a parent scraping by who is about to take...  rh7hkg   \n1009                                             Testing  rguxim   \n...                                                  ...     ...   \n94657       Just wanted to say I love the United States.  o1na5a   \n94785                             Good News of the Week!  o1glxw   \n97633                  Biden’s Northern Ireland comments  nwunt2   \n97783  Guatemalan president says border crisis is Bid...  nwnkl8   \n99897  Live Watch Party: Trump speaks at NCGOP Conven...  nt7hf8   \n\n                     author     subreddit  \n971             NickHancock     democrats  \n973    DumplingsandDynamics     democrats  \n976           notevergreens     democrats  \n987                  hoyfkd     democrats  \n1009              [deleted]     democrats  \n...                     ...           ...  \n94657               YPG6100  Conservative  \n94785            saxman6257  Conservative  \n97633          ReluctantRev  Conservative  \n97783          Blueshound24  Conservative  \n99897           PotatoUmaru  Conservative  \n\n[12369 rows x 6 columns]",
      "text/html": "<div>\n<style scoped>\n    .dataframe tbody tr th:only-of-type {\n        vertical-align: middle;\n    }\n\n    .dataframe tbody tr th {\n        vertical-align: top;\n    }\n\n    .dataframe thead th {\n        text-align: right;\n    }\n</style>\n<table border=\"1\" class=\"dataframe\">\n  <thead>\n    <tr style=\"text-align: right;\">\n      <th></th>\n      <th>selftext</th>\n      <th>created_utc</th>\n      <th>title</th>\n      <th>id</th>\n      <th>author</th>\n      <th>subreddit</th>\n    </tr>\n  </thead>\n  <tbody>\n    <tr>\n      <th>971</th>\n      <td>Greetings, r/democrats. Recently we've receive...</td>\n      <td>1639631272</td>\n      <td>Announcement: Self/text posts are now disabled</td>\n      <td>rhj7bx</td>\n      <td>NickHancock</td>\n      <td>democrats</td>\n    </tr>\n    <tr>\n      <th>973</th>\n      <td>You’ve all heard them. But what’s gonna happen...</td>\n      <td>1639627277</td>\n      <td>How do anti-vax people expect to live normally...</td>\n      <td>rhhyin</td>\n      <td>DumplingsandDynamics</td>\n      <td>democrats</td>\n    </tr>\n    <tr>\n      <th>976</th>\n      <td>Democrats should be pushing the Build Back Bet...</td>\n      <td>1639615153</td>\n      <td>Build Back Better, Kentucky!!!</td>\n      <td>rhe13t</td>\n      <td>notevergreens</td>\n      <td>democrats</td>\n    </tr>\n    <tr>\n      <th>987</th>\n      <td>He can forgive student loans.  While he may ne...</td>\n      <td>1639597351</td>\n      <td>I am a parent scraping by who is about to take...</td>\n      <td>rh7hkg</td>\n      <td>hoyfkd</td>\n      <td>democrats</td>\n    </tr>\n    <tr>\n      <th>1009</th>\n      <td>[deleted]</td>\n      <td>1639559096</td>\n      <td>Testing</td>\n      <td>rguxim</td>\n      <td>[deleted]</td>\n      <td>democrats</td>\n    </tr>\n    <tr>\n      <th>...</th>\n      <td>...</td>\n      <td>...</td>\n      <td>...</td>\n      <td>...</td>\n      <td>...</td>\n      <td>...</td>\n    </tr>\n    <tr>\n      <th>94657</th>\n      <td>Idk if this counts as a shit post, I hope it d...</td>\n      <td>1623900380</td>\n      <td>Just wanted to say I love the United States.</td>\n      <td>o1na5a</td>\n      <td>YPG6100</td>\n      <td>Conservative</td>\n    </tr>\n    <tr>\n      <th>94785</th>\n      <td>Here is your “Good News of the Week.”  We are ...</td>\n      <td>1623880419</td>\n      <td>Good News of the Week!</td>\n      <td>o1glxw</td>\n      <td>saxman6257</td>\n      <td>Conservative</td>\n    </tr>\n    <tr>\n      <th>97633</th>\n      <td>Predictably have not gone down well in actual ...</td>\n      <td>1623349503</td>\n      <td>Biden’s Northern Ireland comments</td>\n      <td>nwunt2</td>\n      <td>ReluctantRev</td>\n      <td>Conservative</td>\n    </tr>\n    <tr>\n      <th>97783</th>\n      <td>Even third world Banana Republics laugh at thi...</td>\n      <td>1623331448</td>\n      <td>Guatemalan president says border crisis is Bid...</td>\n      <td>nwnkl8</td>\n      <td>Blueshound24</td>\n      <td>Conservative</td>\n    </tr>\n    <tr>\n      <th>99897</th>\n      <td>Trump is set to address the North Carolina GOP...</td>\n      <td>1622933202</td>\n      <td>Live Watch Party: Trump speaks at NCGOP Conven...</td>\n      <td>nt7hf8</td>\n      <td>PotatoUmaru</td>\n      <td>Conservative</td>\n    </tr>\n  </tbody>\n</table>\n<p>12369 rows × 6 columns</p>\n</div>"
     },
     "execution_count": 13,
     "metadata": {},
     "output_type": "execute_result"
    }
   ],
   "source": [
    "title_self"
   ],
   "metadata": {
    "collapsed": false,
    "pycharm": {
     "name": "#%%\n"
    }
   }
  },
  {
   "cell_type": "markdown",
   "source": [
    "Going to paste title and selftext since not all have selftext but could be useful context, remove [deleted] first"
   ],
   "metadata": {
    "collapsed": false,
    "pycharm": {
     "name": "#%% md\n"
    }
   }
  },
  {
   "cell_type": "code",
   "execution_count": 14,
   "outputs": [],
   "source": [
    "df = df[df['selftext'] != '[deleted]']"
   ],
   "metadata": {
    "collapsed": false,
    "pycharm": {
     "name": "#%%\n"
    }
   }
  },
  {
   "cell_type": "markdown",
   "source": [
    "also check to see if title has any [deleted]\n"
   ],
   "metadata": {
    "collapsed": false,
    "pycharm": {
     "name": "#%% md\n"
    }
   }
  },
  {
   "cell_type": "code",
   "execution_count": 18,
   "outputs": [],
   "source": [
    "df = df[df['title'] != '[deleted]']"
   ],
   "metadata": {
    "collapsed": false,
    "pycharm": {
     "name": "#%%\n"
    }
   }
  },
  {
   "cell_type": "code",
   "source": [
    "df['title_self'] = df['title'] + df['selftext']"
   ],
   "metadata": {
    "collapsed": false,
    "pycharm": {
     "name": "#%%\n"
    }
   },
   "execution_count": 19,
   "outputs": []
  },
  {
   "cell_type": "code",
   "execution_count": 20,
   "outputs": [],
   "source": [
    "df['sub_bin'] = df['subreddit'].map({'democrats':0, 'Conservative': 1})"
   ],
   "metadata": {
    "collapsed": false,
    "pycharm": {
     "name": "#%%\n"
    }
   }
  },
  {
   "cell_type": "code",
   "execution_count": 21,
   "outputs": [
    {
     "data": {
      "text/plain": "0    73533\n1    56032\nName: sub_bin, dtype: int64"
     },
     "execution_count": 21,
     "metadata": {},
     "output_type": "execute_result"
    }
   ],
   "source": [
    "df['sub_bin'].value_counts()"
   ],
   "metadata": {
    "collapsed": false,
    "pycharm": {
     "name": "#%%\n"
    }
   }
  },
  {
   "cell_type": "code",
   "execution_count": 23,
   "outputs": [],
   "source": [
    "df.to_csv('./data/posts_cleaned_140k.csv')"
   ],
   "metadata": {
    "collapsed": false,
    "pycharm": {
     "name": "#%%\n"
    }
   }
  },
  {
   "cell_type": "code",
   "execution_count": null,
   "outputs": [],
   "source": [],
   "metadata": {
    "collapsed": false,
    "pycharm": {
     "name": "#%%\n"
    }
   }
  }
 ],
 "metadata": {
  "kernelspec": {
   "display_name": "Python 3",
   "language": "python",
   "name": "python3"
  },
  "language_info": {
   "codemirror_mode": {
    "name": "ipython",
    "version": 2
   },
   "file_extension": ".py",
   "mimetype": "text/x-python",
   "name": "python",
   "nbconvert_exporter": "python",
   "pygments_lexer": "ipython2",
   "version": "2.7.6"
  }
 },
 "nbformat": 4,
 "nbformat_minor": 0
}